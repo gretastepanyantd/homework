{
 "cells": [
  {
   "cell_type": "code",
   "execution_count": 1,
   "id": "019d16c1",
   "metadata": {},
   "outputs": [],
   "source": [
    "import json"
   ]
  },
  {
   "cell_type": "markdown",
   "id": "77094fff",
   "metadata": {},
   "source": [
    "# ex_1"
   ]
  },
  {
   "cell_type": "code",
   "execution_count": 14,
   "id": "c07272e9",
   "metadata": {},
   "outputs": [],
   "source": [
    "list_1 = []\n",
    "for i in range(1, 1000000, 2):\n",
    "    if i % 3 == 0:\n",
    "        list_1.append(i)\n",
    "json_list = json.dumps(list_1)\n",
    "with open('data.txt', 'w') as f:\n",
    "    json.dump(json_list, f)"
   ]
  },
  {
   "cell_type": "code",
   "execution_count": null,
   "id": "ca2fe87b",
   "metadata": {},
   "outputs": [],
   "source": []
  }
 ],
 "metadata": {
  "kernelspec": {
   "display_name": "Python 3 (ipykernel)",
   "language": "python",
   "name": "python3"
  },
  "language_info": {
   "codemirror_mode": {
    "name": "ipython",
    "version": 3
   },
   "file_extension": ".py",
   "mimetype": "text/x-python",
   "name": "python",
   "nbconvert_exporter": "python",
   "pygments_lexer": "ipython3",
   "version": "3.11.2"
  }
 },
 "nbformat": 4,
 "nbformat_minor": 5
}
